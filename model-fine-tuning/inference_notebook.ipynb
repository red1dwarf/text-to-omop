{
 "cells": [
  {
   "cell_type": "code",
   "execution_count": null,
   "id": "4d72b115",
   "metadata": {
    "vscode": {
     "languageId": "plaintext"
    }
   },
   "outputs": [],
   "source": [
    "from transformers import AutoModelForCausalLM, AutoTokenizer\n",
    "from peft import PeftModel\n",
    "import torch\n",
    "\n",
    "# Path to your fine-tuned model directory\n",
    "model_path = \"llama7b-lora-sql\"\n",
    "\n",
    "# Load base model\n",
    "base_model = AutoModelForCausalLM.from_pretrained(\n",
    "    \"meta-llama/Llama-2-7b-hf\",  # base model\n",
    "    torch_dtype=torch.float16,\n",
    "    device_map=\"auto\"\n",
    ")\n",
    "\n",
    "# Load LoRA adapter on top of base model\n",
    "model = PeftModel.from_pretrained(base_model, model_path)\n",
    "model.eval()\n",
    "\n",
    "# Load tokenizer\n",
    "tokenizer = AutoTokenizer.from_pretrained(model_path)\n",
    "\n",
    "# Set pad token if missing\n",
    "if tokenizer.pad_token is None:\n",
    "    tokenizer.pad_token = tokenizer.eos_token\n",
    "\n",
    "\n"
   ]
  },
  {
   "cell_type": "code",
   "execution_count": null,
   "id": "04ddd489",
   "metadata": {
    "vscode": {
     "languageId": "plaintext"
    }
   },
   "outputs": [],
   "source": [
    "# Inference prompt\n",
    "question = \"Question: What are the top 4 frequent prescribed drugs for patients who were also prescribed drug_concept_id 19041823 at the same time on the last hospital visit?\\n\\nSchema:\\nperson.person_id: Unique identifier for each patient\\nperson.year_of_birth: Year of birth of the person\\nperson.gender_concept_id: Gender as concept ID\\nperson.race_concept_id: Race as concept ID\\ndrug_exposure.drug_exposure_id: Unique ID for the drug exposure record\\ndrug_exposure.person_id: Foreign key to person table\\ndrug_exposure.drug_concept_id: Concept ID of the prescribed drug\\ndrug_exposure.drug_exposure_start_date: Start date of drug exposure\\ncondition_occurrence.condition_occurrence_id: Unique ID for condition record\\ncondition_occurrence.person_id: Foreign key to person table\\ncondition_occurrence.condition_concept_id: Concept ID for condition\\ncondition_occurrence.condition_start_date: Date of condition onset\\nvisit_occurrence.visit_occurrence_id: Unique ID for visit record\\nvisit_occurrence.person_id: Foreign key to person table\\nvisit_occurrence.visit_concept_id: Concept ID for type of visit (e.g., outpatient, inpatient)\\nvisit_occurrence.visit_start_date: Date when the visit started\\nobservation.observation_id: Unique ID for observation\\nobservation.person_id: Foreign key to person table\\nobservation.observation_concept_id: Concept ID for observation\\nobservation.observation_date: Date when observation was made\\nmeasurement.measurement_id: Unique ID for measurement record\\nmeasurement.person_id: Foreign key to person table\\nmeasurement.measurement_concept_id: Concept ID for the measurement (e.g., blood pressure)\\nmeasurement.measurement_date: Date of the measurement\\nprocedure_occurrence.procedure_occurrence_id: Unique ID for procedure\\nprocedure_occurrence.person_id: Foreign key to person table\\nprocedure_occurrence.procedure_concept_id: Concept ID for performed procedure\\nprocedure_occurrence.procedure_date: Date of the procedure\\nconcept.concept_id: Unique concept identifier across vocabularies\\nconcept.concept_name: Human-readable name of the concept\\nconcept.domain_id: Domain classification (e.g., Condition, Drug, Measurement)\\nconcept.vocabulary_id: Vocabulary source (e.g., SNOMED, RxNorm)\\nconcept_ancestor.ancestor_concept_id: Higher-level (parent) concept\\nconcept_ancestor.descendant_concept_id: Lower-level (child) concept\\n\\nSQL:\"\n",
    "prompt = f\"### Question:\\n{question}\\n\\n### SQL:\\n\"\n",
    "\n",
    "# Tokenize input\n",
    "inputs = tokenizer(prompt, return_tensors=\"pt\").to(model.device)\n",
    "\n",
    "# Generate output\n",
    "with torch.no_grad():\n",
    "    output = model.generate(\n",
    "        **inputs,\n",
    "        max_new_tokens=128,\n",
    "        do_sample=False,  # deterministic output\n",
    "        temperature=0.7,\n",
    "        top_p=0.9\n",
    "    )\n",
    "\n",
    "# Decode and print result\n",
    "result = tokenizer.decode(output[0], skip_special_tokens=True)\n",
    "print(result)"
   ]
  },
  {
   "cell_type": "code",
   "execution_count": null,
   "id": "3c6058dd",
   "metadata": {
    "vscode": {
     "languageId": "plaintext"
    }
   },
   "outputs": [],
   "source": []
  }
 ],
 "metadata": {
  "language_info": {
   "name": "python"
  }
 },
 "nbformat": 4,
 "nbformat_minor": 5
}
